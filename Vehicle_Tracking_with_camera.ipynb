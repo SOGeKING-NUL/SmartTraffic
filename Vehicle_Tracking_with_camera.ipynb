{
  "cells": [
    {
      "cell_type": "code",
      "execution_count": 1,
      "metadata": {
        "colab": {
          "base_uri": "https://localhost:8080/"
        },
        "id": "AO4MWPmnFk7m",
        "outputId": "be49deab-b95b-43dd-ee36-85f0ebd85cff"
      },
      "outputs": [
        {
          "name": "stdout",
          "output_type": "stream",
          "text": [
            "c:\\Users\\Lenovo\\Documents\\Hardware Projects\\SmartTraffic\n"
          ]
        }
      ],
      "source": [
        "import os\n",
        "HOME = os.getcwd()\n",
        "print(HOME)"
      ]
    },
    {
      "cell_type": "markdown",
      "metadata": {
        "id": "C5w5bHwTGUdp"
      },
      "source": [
        "## Install YOLOv8"
      ]
    },
    {
      "cell_type": "code",
      "execution_count": 2,
      "metadata": {
        "colab": {
          "base_uri": "https://localhost:8080/"
        },
        "id": "S2kB2mCmGPmL",
        "outputId": "caa72394-a35e-479f-ad27-b2ecbdfb31a9"
      },
      "outputs": [
        {
          "name": "stdout",
          "output_type": "stream",
          "text": [
            "Ultralytics 8.3.19  Python-3.11.9 torch-2.6.0+cpu CPU (13th Gen Intel Core(TM) i5-13500H)\n",
            "Setup complete  (16 CPUs, 15.7 GB RAM, 156.8/700.7 GB disk)\n"
          ]
        }
      ],
      "source": [
        "%pip install ultralytics==8.3.19\n",
        "\n",
        "from IPython import display\n",
        "display.clear_output()\n",
        "\n",
        "import ultralytics\n",
        "ultralytics.checks()"
      ]
    },
    {
      "cell_type": "markdown",
      "metadata": {
        "id": "c-Fg7kPTG1xL"
      },
      "source": [
        "## Install Roboflow Supervision"
      ]
    },
    {
      "cell_type": "code",
      "execution_count": 3,
      "metadata": {
        "colab": {
          "base_uri": "https://localhost:8080/"
        },
        "id": "dbt0QFEn9OFu",
        "outputId": "0327e788-01e3-4e6e-95fa-052cf859cfa1"
      },
      "outputs": [
        {
          "name": "stdout",
          "output_type": "stream",
          "text": [
            "supervision.__version__: 0.24.0\n"
          ]
        }
      ],
      "source": [
        "%pip install supervision[assets]==0.24.0\n",
        "display.clear_output()\n",
        "\n",
        "import supervision as sv\n",
        "print(\"supervision.__version__:\", sv.__version__)"
      ]
    },
    {
      "cell_type": "code",
      "execution_count": 4,
      "metadata": {
        "colab": {
          "base_uri": "https://localhost:8080/"
        },
        "id": "CKH_9tBWQC3N",
        "outputId": "65420ddb-34fb-4a69-f503-c85a7ac594e5"
      },
      "outputs": [
        {
          "name": "stdout",
          "output_type": "stream",
          "text": [
            "['BackgroundOverlayAnnotator', 'BaseDataset', 'BlurAnnotator', 'BoundingBoxAnnotator', 'BoxAnnotator', 'BoxCornerAnnotator', 'ByteTrack', 'CSVSink', 'CircleAnnotator', 'ClassificationDataset', 'Classifications', 'Color', 'ColorAnnotator', 'ColorLookup', 'ColorPalette', 'ConfusionMatrix', 'CropAnnotator', 'DetectionDataset', 'Detections', 'DetectionsSmoother', 'DotAnnotator', 'EdgeAnnotator', 'EllipseAnnotator', 'FPSMonitor', 'HaloAnnotator', 'HeatMapAnnotator', 'IconAnnotator', 'ImageSink', 'InferenceSlicer', 'JSONSink', 'KeyPoints', 'LMM', 'LabelAnnotator', 'LineZone', 'LineZoneAnnotator', 'LineZoneAnnotatorMulticlass', 'MaskAnnotator', 'MeanAveragePrecision', 'OrientedBoxAnnotator', 'OverlapFilter', 'PercentageBarAnnotator', 'PixelateAnnotator', 'Point', 'PolygonAnnotator', 'PolygonZone', 'PolygonZoneAnnotator', 'Position', 'Rect', 'RichLabelAnnotator', 'RoundBoxAnnotator', 'TraceAnnotator', 'TriangleAnnotator', 'VertexAnnotator', 'VertexLabelAnnotator', 'VideoInfo', 'VideoSink', '__builtins__', '__cached__', '__doc__', '__file__', '__loader__', '__name__', '__package__', '__path__', '__spec__', '__version__', 'annotators', 'box_iou_batch', 'box_non_max_merge', 'box_non_max_suppression', 'calculate_masks_centroids', 'calculate_optimal_line_thickness', 'calculate_optimal_text_scale', 'classification', 'clip_boxes', 'config', 'contains_holes', 'contains_multiple_segments', 'create_tiles', 'crop_image', 'cv2_to_pillow', 'dataset', 'detection', 'draw', 'draw_filled_polygon', 'draw_filled_rectangle', 'draw_image', 'draw_line', 'draw_polygon', 'draw_rectangle', 'draw_text', 'filter_polygons_by_area', 'geometry', 'get_polygon_center', 'get_video_frames_generator', 'importlib_metadata', 'keypoint', 'letterbox_image', 'list_files_with_extensions', 'mask_iou_batch', 'mask_non_max_suppression', 'mask_to_polygons', 'mask_to_rle', 'mask_to_xyxy', 'metrics', 'move_boxes', 'move_masks', 'oriented_box_iou_batch', 'overlay_image', 'pad_boxes', 'pillow_to_cv2', 'plot_image', 'plot_images_grid', 'polygon_to_mask', 'polygon_to_xyxy', 'process_video', 'resize_image', 'rle_to_mask', 'scale_boxes', 'scale_image', 'tracker', 'utils', 'validators', 'xcycwh_to_xyxy', 'xywh_to_xyxy']\n"
          ]
        }
      ],
      "source": [
        "print(dir(sv))"
      ]
    },
    {
      "cell_type": "markdown",
      "metadata": {
        "id": "XVrfGu7MAald"
      },
      "source": [
        "## Render IRL video via cam"
      ]
    },
    {
      "cell_type": "code",
      "execution_count": 5,
      "metadata": {
        "colab": {
          "base_uri": "https://localhost:8080/",
          "height": 84,
          "referenced_widgets": [
            "99c18b978ca3498f95dd48e1443b421c",
            "8d36b7aa1b104bc98a292d5ad43516da",
            "cb9f82d3992d46cc8898a274e16ec29a",
            "c9f083af65554c999939f62fb8715070",
            "1ca5036b4d364b849add31a1cf4d4d6b",
            "5491240bb14d4dc4a8cf05f311da29f1",
            "003d7283e76a461c8e1f466bc565b7bb",
            "66583d97e9d6404a8a6bfa3a45a9bd18",
            "02f2987a6bde4e8b9c93e161708eb0ff",
            "160d7d7e3a94402596c490debd3eb936",
            "1dbd21f08b294c4895ccaf0d69a7e210"
          ]
        },
        "id": "uKmqueSR_pTi",
        "outputId": "9a03c9bc-7652-4d79-a237-afae60c0a554"
      },
      "outputs": [
        {
          "name": "stderr",
          "output_type": "stream",
          "text": [
            "TqdmWarning: IProgress not found. Please update jupyter and ipywidgets. See https://ipywidgets.readthedocs.io/en/stable/user_install.html\n"
          ]
        }
      ],
      "source": [
        "from supervision.assets import download_assets, VideoAssets\n",
        "\n",
        "# SOURCE_VIDEO_PATH = download_assets(VideoAssets.VEHICLES)\n",
        "# SOURCE_VIDEO_PATH= '/content/sample.mp4'\n",
        "\n",
        "\n",
        "\n",
        "import cv2\n",
        "\n",
        "def webcam_frame_generator():\n",
        "    cap = cv2.VideoCapture(0)  # 0 is usually the default webcam\n",
        "    while cap.isOpened():\n",
        "        ret, frame = cap.read()\n",
        "        if not ret:\n",
        "            break\n",
        "        yield frame\n",
        "    cap.release()\n",
        "\n",
        "generator = webcam_frame_generator()\n",
        "\n",
        "\n",
        "\n"
      ]
    },
    {
      "cell_type": "markdown",
      "metadata": {
        "id": "Y99ZDFi4G9zU"
      },
      "source": [
        "## Load pre-trained YOLOv8 model"
      ]
    },
    {
      "cell_type": "code",
      "execution_count": 6,
      "metadata": {
        "colab": {
          "base_uri": "https://localhost:8080/"
        },
        "id": "9-7SBD_bHDuQ",
        "outputId": "6135c246-f2ec-4fef-de40-7790546493d8"
      },
      "outputs": [],
      "source": [
        "from ultralytics import YOLO\n",
        "\n",
        "model = YOLO(\"yolov8x.pt\")"
      ]
    },
    {
      "cell_type": "markdown",
      "metadata": {
        "id": "COTWRxDhHIz3"
      },
      "source": [
        "## Predict and annotate single frame"
      ]
    },
    {
      "cell_type": "code",
      "execution_count": 7,
      "metadata": {
        "id": "QEx7Wn7F9Tlc"
      },
      "outputs": [],
      "source": [
        "CLASS_NAMES_DICT = model.model.names\n",
        "\n",
        "SELECTED_CLASS_NAMES = ['car', 'motorcycle', 'bus', 'truck']\n",
        "\n",
        "# class ids matching the class names we have chosen\n",
        "SELECTED_CLASS_IDS = [\n",
        "    {value: key for key, value in CLASS_NAMES_DICT.items()}[class_name]\n",
        "    for class_name\n",
        "    in SELECTED_CLASS_NAMES\n",
        "]"
      ]
    },
    {
      "cell_type": "code",
      "execution_count": 8,
      "metadata": {
        "colab": {
          "base_uri": "https://localhost:8080/"
        },
        "collapsed": true,
        "id": "vsZ48uP5StHj",
        "outputId": "7d55e114-58ab-492c-95e4-d67701a432a6"
      },
      "outputs": [
        {
          "data": {
            "text/plain": [
              "{0: 'person',\n",
              " 1: 'bicycle',\n",
              " 2: 'car',\n",
              " 3: 'motorcycle',\n",
              " 4: 'airplane',\n",
              " 5: 'bus',\n",
              " 6: 'train',\n",
              " 7: 'truck',\n",
              " 8: 'boat',\n",
              " 9: 'traffic light',\n",
              " 10: 'fire hydrant',\n",
              " 11: 'stop sign',\n",
              " 12: 'parking meter',\n",
              " 13: 'bench',\n",
              " 14: 'bird',\n",
              " 15: 'cat',\n",
              " 16: 'dog',\n",
              " 17: 'horse',\n",
              " 18: 'sheep',\n",
              " 19: 'cow',\n",
              " 20: 'elephant',\n",
              " 21: 'bear',\n",
              " 22: 'zebra',\n",
              " 23: 'giraffe',\n",
              " 24: 'backpack',\n",
              " 25: 'umbrella',\n",
              " 26: 'handbag',\n",
              " 27: 'tie',\n",
              " 28: 'suitcase',\n",
              " 29: 'frisbee',\n",
              " 30: 'skis',\n",
              " 31: 'snowboard',\n",
              " 32: 'sports ball',\n",
              " 33: 'kite',\n",
              " 34: 'baseball bat',\n",
              " 35: 'baseball glove',\n",
              " 36: 'skateboard',\n",
              " 37: 'surfboard',\n",
              " 38: 'tennis racket',\n",
              " 39: 'bottle',\n",
              " 40: 'wine glass',\n",
              " 41: 'cup',\n",
              " 42: 'fork',\n",
              " 43: 'knife',\n",
              " 44: 'spoon',\n",
              " 45: 'bowl',\n",
              " 46: 'banana',\n",
              " 47: 'apple',\n",
              " 48: 'sandwich',\n",
              " 49: 'orange',\n",
              " 50: 'broccoli',\n",
              " 51: 'carrot',\n",
              " 52: 'hot dog',\n",
              " 53: 'pizza',\n",
              " 54: 'donut',\n",
              " 55: 'cake',\n",
              " 56: 'chair',\n",
              " 57: 'couch',\n",
              " 58: 'potted plant',\n",
              " 59: 'bed',\n",
              " 60: 'dining table',\n",
              " 61: 'toilet',\n",
              " 62: 'tv',\n",
              " 63: 'laptop',\n",
              " 64: 'mouse',\n",
              " 65: 'remote',\n",
              " 66: 'keyboard',\n",
              " 67: 'cell phone',\n",
              " 68: 'microwave',\n",
              " 69: 'oven',\n",
              " 70: 'toaster',\n",
              " 71: 'sink',\n",
              " 72: 'refrigerator',\n",
              " 73: 'book',\n",
              " 74: 'clock',\n",
              " 75: 'vase',\n",
              " 76: 'scissors',\n",
              " 77: 'teddy bear',\n",
              " 78: 'hair drier',\n",
              " 79: 'toothbrush'}"
            ]
          },
          "execution_count": 8,
          "metadata": {},
          "output_type": "execute_result"
        }
      ],
      "source": [
        "model.model.names"
      ]
    },
    {
      "cell_type": "code",
      "execution_count": 9,
      "metadata": {
        "colab": {
          "base_uri": "https://localhost:8080/"
        },
        "id": "6KDnDMgbVCyK",
        "outputId": "545a59f1-2b59-46eb-f5ea-dc8c9ce290ce"
      },
      "outputs": [
        {
          "data": {
            "text/plain": [
              "[2, 3, 5, 7]"
            ]
          },
          "execution_count": 9,
          "metadata": {},
          "output_type": "execute_result"
        }
      ],
      "source": [
        "SELECTED_CLASS_IDS"
      ]
    },
    {
      "cell_type": "code",
      "execution_count": 10,
      "metadata": {
        "id": "noOycxILHjYI"
      },
      "outputs": [],
      "source": [
        "import numpy as np\n",
        "import cv2\n"
      ]
    },
    {
      "cell_type": "markdown",
      "metadata": {
        "id": "Kc0NETYnJWex"
      },
      "source": [
        "## Predict and annotate whole video"
      ]
    },
    {
      "cell_type": "code",
      "execution_count": 11,
      "metadata": {
        "colab": {
          "base_uri": "https://localhost:8080/"
        },
        "id": "BEh1sb9tvzpX",
        "outputId": "7daa2d7b-eac8-4d60-ea7b-e70e0b70e106"
      },
      "outputs": [
        {
          "name": "stdout",
          "output_type": "stream",
          "text": [
            "Width: 640, Height: 480, FPS: 30.0\n"
          ]
        }
      ],
      "source": [
        "import cv2\n",
        "\n",
        "cap = cv2.VideoCapture(0)\n",
        "width = int(cap.get(cv2.CAP_PROP_FRAME_WIDTH))\n",
        "height = int(cap.get(cv2.CAP_PROP_FRAME_HEIGHT))\n",
        "fps = cap.get(cv2.CAP_PROP_FPS)\n",
        "cap.release()\n",
        "\n",
        "print(f\"Width: {width}, Height: {height}, FPS: {fps}\")\n"
      ]
    },
    {
      "cell_type": "code",
      "execution_count": 12,
      "metadata": {
        "id": "7Qwykp5K9VdK"
      },
      "outputs": [],
      "source": [
        "# settings\n",
        "LINE_START = sv.Point(50, 336)  # 50 pixels from left, 70% down the frame (0.7*480 ≈ 336)\n",
        "LINE_END   = sv.Point(590, 336) # 50 pixels from right edge (640-50), same vertical position\n",
        "\n",
        "\n",
        "TARGET_VIDEO_PATH = f\"{HOME}/result.mp4\""
      ]
    },
    {
      "cell_type": "code",
      "execution_count": null,
      "metadata": {
        "id": "AcNTji5aC69R"
      },
      "outputs": [],
      "source": [
        "import cv2\n",
        "import numpy as np\n",
        "import supervision as sv\n",
        "\n",
        "\n",
        "# Create BYTETracker instance\n",
        "byte_tracker = sv.ByteTrack(\n",
        "    track_activation_threshold=0.25,\n",
        "    lost_track_buffer=30,\n",
        "    minimum_matching_threshold=0.8,\n",
        "    frame_rate=30,\n",
        "    minimum_consecutive_frames=3)\n",
        "byte_tracker.reset()\n",
        "\n",
        "# Define a custom webcam frame generator using OpenCV\n",
        "def webcam_frame_generator():\n",
        "    cap = cv2.VideoCapture(0)  # Use 0 for your default webcam\n",
        "    if not cap.isOpened():\n",
        "        print(\"Error: Unable to access the webcam.\")\n",
        "        return\n",
        "    while cap.isOpened():\n",
        "        ret, frame = cap.read()\n",
        "        if not ret:\n",
        "            break\n",
        "        yield frame\n",
        "    cap.release()\n",
        "\n",
        "# Use the custom webcam generator instead of a file-based generator\n",
        "generator = webcam_frame_generator()\n",
        "\n",
        "# Define the LineZone (ensure LINE_START and LINE_END are set for your camera resolution)\n",
        "line_zone = sv.LineZone(start=LINE_START, end=LINE_END)\n",
        "\n",
        "# Create annotators\n",
        "box_annotator = sv.BoxAnnotator(thickness=4)\n",
        "label_annotator = sv.LabelAnnotator(text_thickness=2, text_scale=1.5, text_color=sv.Color.BLACK)\n",
        "trace_annotator = sv.TraceAnnotator(thickness=4, trace_length=50)\n",
        "line_zone_annotator = sv.LineZoneAnnotator(thickness=4, text_thickness=4, text_scale=2)\n",
        "\n",
        "# --- Define the frame processing callback ---\n",
        "def callback(frame: np.ndarray, index: int) -> np.ndarray:\n",
        "    results = model(frame, verbose=False)[0]\n",
        "    detections = sv.Detections.from_ultralytics(results)\n",
        "    # Only consider class ids from SELECTED_CLASS_IDS defined elsewhere\n",
        "    detections = detections[np.isin(detections.class_id, SELECTED_CLASS_IDS)]\n",
        "    # Update tracker with detections\n",
        "    detections = byte_tracker.update_with_detections(detections)\n",
        "    labels = [\n",
        "        f\"#{tracker_id} {model.model.names[class_id]} {confidence:0.2f}\"\n",
        "        for confidence, class_id, tracker_id\n",
        "        in zip(detections.confidence, detections.class_id, detections.tracker_id)\n",
        "    ]\n",
        "    annotated_frame = frame.copy()\n",
        "    annotated_frame = trace_annotator.annotate(scene=annotated_frame, detections=detections)\n",
        "    annotated_frame = box_annotator.annotate(scene=annotated_frame, detections=detections)\n",
        "    annotated_frame = label_annotator.annotate(scene=annotated_frame, detections=detections, labels=labels)\n",
        "    \n",
        "    # Update line counter and annotate the line zone\n",
        "    line_zone.trigger(detections)\n",
        "    return line_zone_annotator.annotate(annotated_frame, line_counter=line_zone)\n",
        "\n",
        "# --- Process the webcam stream in real time ---\n",
        "frame_index = 0\n",
        "for frame in generator:\n",
        "    processed_frame = callback(frame, frame_index)\n",
        "    frame_index += 1\n",
        "    cv2.imshow(\"Camera Feed\", processed_frame)\n",
        "    # Exit if 'q' is pressed\n",
        "    if cv2.waitKey(1) & 0xFF == ord('q'):\n",
        "        break\n",
        "\n",
        "cv2.destroyAllWindows()\n"
      ]
    },
    {
      "cell_type": "code",
      "execution_count": null,
      "metadata": {
        "id": "nGIB9TNfC0oA"
      },
      "outputs": [],
      "source": [
        "# import os\n",
        "# os.startfile(os.path.dirname(TARGET_VIDEO_PATH))\n"
      ]
    },
    {
      "cell_type": "code",
      "execution_count": null,
      "metadata": {},
      "outputs": [],
      "source": []
    },
    {
      "cell_type": "code",
      "execution_count": null,
      "metadata": {},
      "outputs": [],
      "source": []
    }
  ],
  "metadata": {
    "accelerator": "GPU",
    "colab": {
      "gpuType": "T4",
      "provenance": []
    },
    "kernelspec": {
      "display_name": "Python 3",
      "name": "python3"
    },
    "language_info": {
      "codemirror_mode": {
        "name": "ipython",
        "version": 3
      },
      "file_extension": ".py",
      "mimetype": "text/x-python",
      "name": "python",
      "nbconvert_exporter": "python",
      "pygments_lexer": "ipython3",
      "version": "3.11.9"
    },
    "widgets": {
      "application/vnd.jupyter.widget-state+json": {
        "003d7283e76a461c8e1f466bc565b7bb": {
          "model_module": "@jupyter-widgets/controls",
          "model_module_version": "1.5.0",
          "model_name": "DescriptionStyleModel",
          "state": {
            "_model_module": "@jupyter-widgets/controls",
            "_model_module_version": "1.5.0",
            "_model_name": "DescriptionStyleModel",
            "_view_count": null,
            "_view_module": "@jupyter-widgets/base",
            "_view_module_version": "1.2.0",
            "_view_name": "StyleView",
            "description_width": ""
          }
        },
        "02f2987a6bde4e8b9c93e161708eb0ff": {
          "model_module": "@jupyter-widgets/controls",
          "model_module_version": "1.5.0",
          "model_name": "ProgressStyleModel",
          "state": {
            "_model_module": "@jupyter-widgets/controls",
            "_model_module_version": "1.5.0",
            "_model_name": "ProgressStyleModel",
            "_view_count": null,
            "_view_module": "@jupyter-widgets/base",
            "_view_module_version": "1.2.0",
            "_view_name": "StyleView",
            "bar_color": "#a351fb",
            "description_width": ""
          }
        },
        "160d7d7e3a94402596c490debd3eb936": {
          "model_module": "@jupyter-widgets/base",
          "model_module_version": "1.2.0",
          "model_name": "LayoutModel",
          "state": {
            "_model_module": "@jupyter-widgets/base",
            "_model_module_version": "1.2.0",
            "_model_name": "LayoutModel",
            "_view_count": null,
            "_view_module": "@jupyter-widgets/base",
            "_view_module_version": "1.2.0",
            "_view_name": "LayoutView",
            "align_content": null,
            "align_items": null,
            "align_self": null,
            "border": null,
            "bottom": null,
            "display": null,
            "flex": null,
            "flex_flow": null,
            "grid_area": null,
            "grid_auto_columns": null,
            "grid_auto_flow": null,
            "grid_auto_rows": null,
            "grid_column": null,
            "grid_gap": null,
            "grid_row": null,
            "grid_template_areas": null,
            "grid_template_columns": null,
            "grid_template_rows": null,
            "height": null,
            "justify_content": null,
            "justify_items": null,
            "left": null,
            "margin": null,
            "max_height": null,
            "max_width": null,
            "min_height": null,
            "min_width": null,
            "object_fit": null,
            "object_position": null,
            "order": null,
            "overflow": null,
            "overflow_x": null,
            "overflow_y": null,
            "padding": null,
            "right": null,
            "top": null,
            "visibility": null,
            "width": null
          }
        },
        "1ca5036b4d364b849add31a1cf4d4d6b": {
          "model_module": "@jupyter-widgets/base",
          "model_module_version": "1.2.0",
          "model_name": "LayoutModel",
          "state": {
            "_model_module": "@jupyter-widgets/base",
            "_model_module_version": "1.2.0",
            "_model_name": "LayoutModel",
            "_view_count": null,
            "_view_module": "@jupyter-widgets/base",
            "_view_module_version": "1.2.0",
            "_view_name": "LayoutView",
            "align_content": null,
            "align_items": null,
            "align_self": null,
            "border": null,
            "bottom": null,
            "display": null,
            "flex": null,
            "flex_flow": null,
            "grid_area": null,
            "grid_auto_columns": null,
            "grid_auto_flow": null,
            "grid_auto_rows": null,
            "grid_column": null,
            "grid_gap": null,
            "grid_row": null,
            "grid_template_areas": null,
            "grid_template_columns": null,
            "grid_template_rows": null,
            "height": null,
            "justify_content": null,
            "justify_items": null,
            "left": null,
            "margin": null,
            "max_height": null,
            "max_width": null,
            "min_height": null,
            "min_width": null,
            "object_fit": null,
            "object_position": null,
            "order": null,
            "overflow": null,
            "overflow_x": null,
            "overflow_y": null,
            "padding": null,
            "right": null,
            "top": null,
            "visibility": null,
            "width": null
          }
        },
        "1dbd21f08b294c4895ccaf0d69a7e210": {
          "model_module": "@jupyter-widgets/controls",
          "model_module_version": "1.5.0",
          "model_name": "DescriptionStyleModel",
          "state": {
            "_model_module": "@jupyter-widgets/controls",
            "_model_module_version": "1.5.0",
            "_model_name": "DescriptionStyleModel",
            "_view_count": null,
            "_view_module": "@jupyter-widgets/base",
            "_view_module_version": "1.2.0",
            "_view_name": "StyleView",
            "description_width": ""
          }
        },
        "5491240bb14d4dc4a8cf05f311da29f1": {
          "model_module": "@jupyter-widgets/base",
          "model_module_version": "1.2.0",
          "model_name": "LayoutModel",
          "state": {
            "_model_module": "@jupyter-widgets/base",
            "_model_module_version": "1.2.0",
            "_model_name": "LayoutModel",
            "_view_count": null,
            "_view_module": "@jupyter-widgets/base",
            "_view_module_version": "1.2.0",
            "_view_name": "LayoutView",
            "align_content": null,
            "align_items": null,
            "align_self": null,
            "border": null,
            "bottom": null,
            "display": null,
            "flex": null,
            "flex_flow": null,
            "grid_area": null,
            "grid_auto_columns": null,
            "grid_auto_flow": null,
            "grid_auto_rows": null,
            "grid_column": null,
            "grid_gap": null,
            "grid_row": null,
            "grid_template_areas": null,
            "grid_template_columns": null,
            "grid_template_rows": null,
            "height": null,
            "justify_content": null,
            "justify_items": null,
            "left": null,
            "margin": null,
            "max_height": null,
            "max_width": null,
            "min_height": null,
            "min_width": null,
            "object_fit": null,
            "object_position": null,
            "order": null,
            "overflow": null,
            "overflow_x": null,
            "overflow_y": null,
            "padding": null,
            "right": null,
            "top": null,
            "visibility": null,
            "width": null
          }
        },
        "66583d97e9d6404a8a6bfa3a45a9bd18": {
          "model_module": "@jupyter-widgets/base",
          "model_module_version": "1.2.0",
          "model_name": "LayoutModel",
          "state": {
            "_model_module": "@jupyter-widgets/base",
            "_model_module_version": "1.2.0",
            "_model_name": "LayoutModel",
            "_view_count": null,
            "_view_module": "@jupyter-widgets/base",
            "_view_module_version": "1.2.0",
            "_view_name": "LayoutView",
            "align_content": null,
            "align_items": null,
            "align_self": null,
            "border": null,
            "bottom": null,
            "display": null,
            "flex": null,
            "flex_flow": null,
            "grid_area": null,
            "grid_auto_columns": null,
            "grid_auto_flow": null,
            "grid_auto_rows": null,
            "grid_column": null,
            "grid_gap": null,
            "grid_row": null,
            "grid_template_areas": null,
            "grid_template_columns": null,
            "grid_template_rows": null,
            "height": null,
            "justify_content": null,
            "justify_items": null,
            "left": null,
            "margin": null,
            "max_height": null,
            "max_width": null,
            "min_height": null,
            "min_width": null,
            "object_fit": null,
            "object_position": null,
            "order": null,
            "overflow": null,
            "overflow_x": null,
            "overflow_y": null,
            "padding": null,
            "right": null,
            "top": null,
            "visibility": null,
            "width": null
          }
        },
        "8d36b7aa1b104bc98a292d5ad43516da": {
          "model_module": "@jupyter-widgets/controls",
          "model_module_version": "1.5.0",
          "model_name": "HTMLModel",
          "state": {
            "_dom_classes": [],
            "_model_module": "@jupyter-widgets/controls",
            "_model_module_version": "1.5.0",
            "_model_name": "HTMLModel",
            "_view_count": null,
            "_view_module": "@jupyter-widgets/controls",
            "_view_module_version": "1.5.0",
            "_view_name": "HTMLView",
            "description": "",
            "description_tooltip": null,
            "layout": "IPY_MODEL_5491240bb14d4dc4a8cf05f311da29f1",
            "placeholder": "​",
            "style": "IPY_MODEL_003d7283e76a461c8e1f466bc565b7bb",
            "value": "100%"
          }
        },
        "99c18b978ca3498f95dd48e1443b421c": {
          "model_module": "@jupyter-widgets/controls",
          "model_module_version": "1.5.0",
          "model_name": "HBoxModel",
          "state": {
            "_dom_classes": [],
            "_model_module": "@jupyter-widgets/controls",
            "_model_module_version": "1.5.0",
            "_model_name": "HBoxModel",
            "_view_count": null,
            "_view_module": "@jupyter-widgets/controls",
            "_view_module_version": "1.5.0",
            "_view_name": "HBoxView",
            "box_style": "",
            "children": [
              "IPY_MODEL_8d36b7aa1b104bc98a292d5ad43516da",
              "IPY_MODEL_cb9f82d3992d46cc8898a274e16ec29a",
              "IPY_MODEL_c9f083af65554c999939f62fb8715070"
            ],
            "layout": "IPY_MODEL_1ca5036b4d364b849add31a1cf4d4d6b"
          }
        },
        "c9f083af65554c999939f62fb8715070": {
          "model_module": "@jupyter-widgets/controls",
          "model_module_version": "1.5.0",
          "model_name": "HTMLModel",
          "state": {
            "_dom_classes": [],
            "_model_module": "@jupyter-widgets/controls",
            "_model_module_version": "1.5.0",
            "_model_name": "HTMLModel",
            "_view_count": null,
            "_view_module": "@jupyter-widgets/controls",
            "_view_module_version": "1.5.0",
            "_view_name": "HTMLView",
            "description": "",
            "description_tooltip": null,
            "layout": "IPY_MODEL_160d7d7e3a94402596c490debd3eb936",
            "placeholder": "​",
            "style": "IPY_MODEL_1dbd21f08b294c4895ccaf0d69a7e210",
            "value": " 33.7M/33.7M [00:00&lt;00:00, 65.5MB/s]"
          }
        },
        "cb9f82d3992d46cc8898a274e16ec29a": {
          "model_module": "@jupyter-widgets/controls",
          "model_module_version": "1.5.0",
          "model_name": "FloatProgressModel",
          "state": {
            "_dom_classes": [],
            "_model_module": "@jupyter-widgets/controls",
            "_model_module_version": "1.5.0",
            "_model_name": "FloatProgressModel",
            "_view_count": null,
            "_view_module": "@jupyter-widgets/controls",
            "_view_module_version": "1.5.0",
            "_view_name": "ProgressView",
            "bar_style": "success",
            "description": "",
            "description_tooltip": null,
            "layout": "IPY_MODEL_66583d97e9d6404a8a6bfa3a45a9bd18",
            "max": 35345757,
            "min": 0,
            "orientation": "horizontal",
            "style": "IPY_MODEL_02f2987a6bde4e8b9c93e161708eb0ff",
            "value": 35345757
          }
        }
      }
    }
  },
  "nbformat": 4,
  "nbformat_minor": 0
}
